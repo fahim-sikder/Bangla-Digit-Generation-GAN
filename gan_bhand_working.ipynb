{
 "cells": [
  {
   "cell_type": "code",
   "execution_count": 0,
   "metadata": {
    "colab": {
     "autoexec": {
      "startup": false,
      "wait_interval": 0
     }
    },
    "colab_type": "code",
    "id": "p1a6OHDd5XeL"
   },
   "outputs": [],
   "source": [
    "!mkdir -p drive\n",
    "!google-drive-ocamlfuse drive"
   ]
  },
  {
   "cell_type": "code",
   "execution_count": 15,
   "metadata": {
    "colab": {
     "autoexec": {
      "startup": false,
      "wait_interval": 0
     },
     "base_uri": "https://localhost:8080/",
     "height": 170
    },
    "colab_type": "code",
    "executionInfo": {
     "elapsed": 1264,
     "status": "ok",
     "timestamp": 1533318681978,
     "user": {
      "displayName": "Md Fahim Sikder",
      "photoUrl": "//lh3.googleusercontent.com/-rdIL4NG3B9s/AAAAAAAAAAI/AAAAAAAAARI/7WtoB5e445g/s50-c-k-no/photo.jpg",
      "userId": "113286591130898257207"
     },
     "user_tz": -360
    },
    "id": "DzFu0kiwInqy",
    "outputId": "7a5bd700-8655-48e7-f9fd-0ecb082112fc"
   },
   "outputs": [
    {
     "data": {
      "text/plain": [
       "['datalab',\n",
       " '.config',\n",
       " '.ipython',\n",
       " '.cache',\n",
       " '.keras',\n",
       " '.local',\n",
       " 'drive',\n",
       " '.forever',\n",
       " '.gdfuse']"
      ]
     },
     "execution_count": 15,
     "metadata": {
      "tags": []
     },
     "output_type": "execute_result"
    }
   ],
   "source": [
    "import os\n",
    "os.listdir()"
   ]
  },
  {
   "cell_type": "code",
   "execution_count": 0,
   "metadata": {
    "colab": {
     "autoexec": {
      "startup": false,
      "wait_interval": 0
     }
    },
    "colab_type": "code",
    "id": "wcbCY2GPIUjq"
   },
   "outputs": [],
   "source": [
    "import numpy as np\n",
    "import os \n",
    "import keras\n",
    "from keras.models import Sequential, Model\n",
    "from keras.layers import Input, Dense, Conv2D, BatchNormalization, Dropout, Flatten\n",
    "from keras.layers import Activation, Reshape, Conv2DTranspose, UpSampling2D # new! \n",
    "from keras.optimizers import RMSprop\n",
    "import pandas as pd\n",
    "from matplotlib import pyplot as plt\n",
    "%matplotlib inline\n",
    "import sys\n",
    "import pickle\n",
    "import gzip\n",
    "from time import time\n",
    "import time"
   ]
  },
  {
   "cell_type": "code",
   "execution_count": 0,
   "metadata": {
    "colab": {
     "autoexec": {
      "startup": false,
      "wait_interval": 0
     }
    },
    "colab_type": "code",
    "id": "GM4NqC016hqL"
   },
   "outputs": [],
   "source": [
    "def load_data():\n",
    "    with gzip.open('drive/colab/bhand/bhand.pkl.gz', 'rb') as f:\n",
    "        if sys.version_info.major > 2:\n",
    "            train_set, valid_set, test_set = pickle.load(f, encoding='latin1')\n",
    "        else:\n",
    "            train_set, valid_set, test_set = pickle.load(f)\n",
    "\n",
    "    train_x, train_y = train_set\n",
    "    \n",
    "    #train_x = np.reshape(train_x, [-1, 32, 32, 1])\n",
    "    \n",
    "\n",
    "    #train_x = (train_x.astype(np.float32) - 127.5) / 127.5\n",
    "    #train_x = np.expand_dims(train_x, axis=3)\n",
    "    \n",
    "\n",
    "    return train_x"
   ]
  },
  {
   "cell_type": "code",
   "execution_count": 0,
   "metadata": {
    "colab": {
     "autoexec": {
      "startup": false,
      "wait_interval": 0
     }
    },
    "colab_type": "code",
    "id": "Xvzzpr2u63Hy"
   },
   "outputs": [],
   "source": [
    "train_x =load_data()"
   ]
  },
  {
   "cell_type": "code",
   "execution_count": 18,
   "metadata": {
    "colab": {
     "autoexec": {
      "startup": false,
      "wait_interval": 0
     },
     "base_uri": "https://localhost:8080/",
     "height": 34
    },
    "colab_type": "code",
    "executionInfo": {
     "elapsed": 991,
     "status": "ok",
     "timestamp": 1533318714626,
     "user": {
      "displayName": "Md Fahim Sikder",
      "photoUrl": "//lh3.googleusercontent.com/-rdIL4NG3B9s/AAAAAAAAAAI/AAAAAAAAARI/7WtoB5e445g/s50-c-k-no/photo.jpg",
      "userId": "113286591130898257207"
     },
     "user_tz": -360
    },
    "id": "ZwaL8NUD67Op",
    "outputId": "ed5c6419-e9b8-45ad-a748-9b75d7c619ae"
   },
   "outputs": [
    {
     "data": {
      "text/plain": [
       "(50000, 1024)"
      ]
     },
     "execution_count": 18,
     "metadata": {
      "tags": []
     },
     "output_type": "execute_result"
    }
   ],
   "source": [
    "train_x.shape"
   ]
  },
  {
   "cell_type": "code",
   "execution_count": 19,
   "metadata": {
    "colab": {
     "autoexec": {
      "startup": false,
      "wait_interval": 0
     },
     "base_uri": "https://localhost:8080/",
     "height": 34
    },
    "colab_type": "code",
    "executionInfo": {
     "elapsed": 937,
     "status": "ok",
     "timestamp": 1533318716324,
     "user": {
      "displayName": "Md Fahim Sikder",
      "photoUrl": "//lh3.googleusercontent.com/-rdIL4NG3B9s/AAAAAAAAAAI/AAAAAAAAARI/7WtoB5e445g/s50-c-k-no/photo.jpg",
      "userId": "113286591130898257207"
     },
     "user_tz": -360
    },
    "id": "LijqW4L8JUbr",
    "outputId": "2e2f6559-1d97-48ae-b192-5e9d9cd0a5b2"
   },
   "outputs": [
    {
     "data": {
      "text/plain": [
       "numpy.ndarray"
      ]
     },
     "execution_count": 19,
     "metadata": {
      "tags": []
     },
     "output_type": "execute_result"
    }
   ],
   "source": [
    "type(train_x)"
   ]
  },
  {
   "cell_type": "code",
   "execution_count": 0,
   "metadata": {
    "colab": {
     "autoexec": {
      "startup": false,
      "wait_interval": 0
     }
    },
    "colab_type": "code",
    "id": "pnZlPbMf61Vi"
   },
   "outputs": [],
   "source": [
    "train_x = np.reshape(train_x,(train_x.shape[0],32,32,1)) "
   ]
  },
  {
   "cell_type": "code",
   "execution_count": 23,
   "metadata": {
    "colab": {
     "autoexec": {
      "startup": false,
      "wait_interval": 0
     },
     "base_uri": "https://localhost:8080/",
     "height": 34
    },
    "colab_type": "code",
    "executionInfo": {
     "elapsed": 989,
     "status": "ok",
     "timestamp": 1533318854557,
     "user": {
      "displayName": "Md Fahim Sikder",
      "photoUrl": "//lh3.googleusercontent.com/-rdIL4NG3B9s/AAAAAAAAAAI/AAAAAAAAARI/7WtoB5e445g/s50-c-k-no/photo.jpg",
      "userId": "113286591130898257207"
     },
     "user_tz": -360
    },
    "id": "MoIRnWwL6-cm",
    "outputId": "5d28172d-6245-4f97-d1d8-49f9cb7988c1"
   },
   "outputs": [
    {
     "data": {
      "text/plain": [
       "(50000, 32, 32, 1)"
      ]
     },
     "execution_count": 23,
     "metadata": {
      "tags": []
     },
     "output_type": "execute_result"
    }
   ],
   "source": [
    "img_w,img_h = train_x.shape[1:3]\n",
    "train_x.shape"
   ]
  },
  {
   "cell_type": "code",
   "execution_count": 24,
   "metadata": {
    "colab": {
     "autoexec": {
      "startup": false,
      "wait_interval": 0
     },
     "base_uri": "https://localhost:8080/",
     "height": 283
    },
    "colab_type": "code",
    "executionInfo": {
     "elapsed": 939,
     "status": "ok",
     "timestamp": 1533318880937,
     "user": {
      "displayName": "Md Fahim Sikder",
      "photoUrl": "//lh3.googleusercontent.com/-rdIL4NG3B9s/AAAAAAAAAAI/AAAAAAAAARI/7WtoB5e445g/s50-c-k-no/photo.jpg",
      "userId": "113286591130898257207"
     },
     "user_tz": -360
    },
    "id": "gMTbvi8s8D_6",
    "outputId": "f858ab05-133f-4bb9-ed3b-97aaebb2a501"
   },
   "outputs": [
    {
     "data": {
      "text/plain": [
       "<matplotlib.image.AxesImage at 0x7f4f8bcd9240>"
      ]
     },
     "execution_count": 24,
     "metadata": {
      "tags": []
     },
     "output_type": "execute_result"
    },
    {
     "data": {
      "image/png": "[encoded data removed]",
      "text/plain": [
       "<matplotlib.figure.Figure at 0x7f4f8bd01e48>"
      ]
     },
     "metadata": {
      "tags": []
     },
     "output_type": "display_data"
    }
   ],
   "source": [
    "plt.imshow(train_x[4242,:,:,0], cmap='Greys')"
   ]
  },
  {
   "cell_type": "code",
   "execution_count": 0,
   "metadata": {
    "colab": {
     "autoexec": {
      "startup": false,
      "wait_interval": 0
     }
    },
    "colab_type": "code",
    "id": "wdycwBi-8GoS"
   },
   "outputs": [],
   "source": [
    "def discriminator_builder(depth=64,p=0.4):\n",
    "    \n",
    "    inputs = Input((img_w,img_h,1))\n",
    "    \n",
    "    conv1 = Conv2D(depth*1, 5, strides=2, padding='same', activation='relu')(inputs)\n",
    "    conv1 = Dropout(p)(conv1)\n",
    "    \n",
    "    conv2 = Conv2D(depth*2, 5, strides=2, padding='same', activation='relu')(conv1)\n",
    "    conv2 = Dropout(p)(conv2)\n",
    "    \n",
    "    conv3 = Conv2D(depth*4, 5, strides=2, padding='same', activation='relu')(conv2)\n",
    "    conv3 = Dropout(p)(conv3)\n",
    "    \n",
    "    conv4 = Conv2D(depth*8, 5, strides=1, padding='same', activation='relu')(conv3)\n",
    "    conv4 = Flatten()(Dropout(p)(conv4))\n",
    "    \n",
    "    output = Dense(1, activation='sigmoid')(conv4)\n",
    "    \n",
    "    model = Model(inputs=inputs, outputs=output)\n",
    "    model.summary()\n",
    "    \n",
    "    return model"
   ]
  },
  {
   "cell_type": "code",
   "execution_count": 26,
   "metadata": {
    "colab": {
     "autoexec": {
      "startup": false,
      "wait_interval": 0
     },
     "base_uri": "https://localhost:8080/",
     "height": 510
    },
    "colab_type": "code",
    "executionInfo": {
     "elapsed": 985,
     "status": "ok",
     "timestamp": 1533318940280,
     "user": {
      "displayName": "Md Fahim Sikder",
      "photoUrl": "//lh3.googleusercontent.com/-rdIL4NG3B9s/AAAAAAAAAAI/AAAAAAAAARI/7WtoB5e445g/s50-c-k-no/photo.jpg",
      "userId": "113286591130898257207"
     },
     "user_tz": -360
    },
    "id": "oaxS1yZV80vL",
    "outputId": "cdee5e12-1187-407c-949c-df15552eec4b"
   },
   "outputs": [
    {
     "name": "stdout",
     "output_type": "stream",
     "text": [
      "_________________________________________________________________\n",
      "Layer (type)                 Output Shape              Param #   \n",
      "=================================================================\n",
      "input_1 (InputLayer)         (None, 32, 32, 1)         0         \n",
      "_________________________________________________________________\n",
      "conv2d_1 (Conv2D)            (None, 16, 16, 64)        1664      \n",
      "_________________________________________________________________\n",
      "dropout_1 (Dropout)          (None, 16, 16, 64)        0         \n",
      "_________________________________________________________________\n",
      "conv2d_2 (Conv2D)            (None, 8, 8, 128)         204928    \n",
      "_________________________________________________________________\n",
      "dropout_2 (Dropout)          (None, 8, 8, 128)         0         \n",
      "_________________________________________________________________\n",
      "conv2d_3 (Conv2D)            (None, 4, 4, 256)         819456    \n",
      "_________________________________________________________________\n",
      "dropout_3 (Dropout)          (None, 4, 4, 256)         0         \n",
      "_________________________________________________________________\n",
      "conv2d_4 (Conv2D)            (None, 4, 4, 512)         3277312   \n",
      "_________________________________________________________________\n",
      "dropout_4 (Dropout)          (None, 4, 4, 512)         0         \n",
      "_________________________________________________________________\n",
      "flatten_1 (Flatten)          (None, 8192)              0         \n",
      "_________________________________________________________________\n",
      "dense_1 (Dense)              (None, 1)                 8193      \n",
      "=================================================================\n",
      "Total params: 4,311,553\n",
      "Trainable params: 4,311,553\n",
      "Non-trainable params: 0\n",
      "_________________________________________________________________\n"
     ]
    }
   ],
   "source": [
    "discriminator = discriminator_builder()"
   ]
  },
  {
   "cell_type": "code",
   "execution_count": 0,
   "metadata": {
    "colab": {
     "autoexec": {
      "startup": false,
      "wait_interval": 0
     }
    },
    "colab_type": "code",
    "id": "2Gj3B0Q_8_T3"
   },
   "outputs": [],
   "source": [
    "discriminator.compile(loss='binary_crossentropy', \n",
    "                      optimizer=RMSprop(lr=0.0008, decay=6e-8, clipvalue=1.0), \n",
    "                      metrics=['accuracy'])"
   ]
  },
  {
   "cell_type": "code",
   "execution_count": 0,
   "metadata": {
    "colab": {
     "autoexec": {
      "startup": false,
      "wait_interval": 0
     }
    },
    "colab_type": "code",
    "id": "vLzGi2BZ9Dia"
   },
   "outputs": [],
   "source": [
    "def generator_builder(z_dim=100,depth=64,p=0.4):\n",
    "    \n",
    "    inputs = Input((z_dim,))\n",
    "    \n",
    "    dense1 = Dense(8*8*64)(inputs)\n",
    "    dense1 = BatchNormalization(momentum=0.9)(dense1) \n",
    "    dense1 = Activation(activation='relu')(dense1)\n",
    "    dense1 = Reshape((8,8,64))(dense1)\n",
    "    dense1 = Dropout(p)(dense1)\n",
    "    \n",
    "    conv1 = UpSampling2D()(dense1)\n",
    "    conv1 = Conv2DTranspose(int(depth/2), kernel_size=5, padding='same', activation=None,)(conv1)\n",
    "    conv1 = BatchNormalization(momentum=0.9)(conv1)\n",
    "    conv1 = Activation(activation='relu')(conv1)\n",
    "    \n",
    "    conv2 = UpSampling2D()(conv1)\n",
    "    conv2 = Conv2DTranspose(int(depth/4), kernel_size=5, padding='same', activation=None,)(conv2)\n",
    "    conv2 = BatchNormalization(momentum=0.9)(conv2)\n",
    "    conv2 = Activation(activation='relu')(conv2)\n",
    "    \n",
    "    conv3 = Conv2DTranspose(int(depth/8), kernel_size=5, padding='same', activation=None,)(conv2)\n",
    "    conv3 = BatchNormalization(momentum=0.9)(conv3)\n",
    "    conv3 = Activation(activation='relu')(conv3)\n",
    "\n",
    "    output = Conv2D(1, kernel_size=5, padding='same', activation='sigmoid')(conv3)\n",
    "\n",
    "    model = Model(inputs=inputs, outputs=output)\n",
    "    model.summary()\n",
    "    \n",
    "    return model"
   ]
  },
  {
   "cell_type": "code",
   "execution_count": 31,
   "metadata": {
    "colab": {
     "autoexec": {
      "startup": false,
      "wait_interval": 0
     },
     "base_uri": "https://localhost:8080/",
     "height": 748
    },
    "colab_type": "code",
    "executionInfo": {
     "elapsed": 1375,
     "status": "ok",
     "timestamp": 1533319618410,
     "user": {
      "displayName": "Md Fahim Sikder",
      "photoUrl": "//lh3.googleusercontent.com/-rdIL4NG3B9s/AAAAAAAAAAI/AAAAAAAAARI/7WtoB5e445g/s50-c-k-no/photo.jpg",
      "userId": "113286591130898257207"
     },
     "user_tz": -360
    },
    "id": "qU4m0KbJ-Wr2",
    "outputId": "55a34647-14dc-4f86-efd3-deef1a1625c6"
   },
   "outputs": [
    {
     "name": "stdout",
     "output_type": "stream",
     "text": [
      "_________________________________________________________________\n",
      "Layer (type)                 Output Shape              Param #   \n",
      "=================================================================\n",
      "input_3 (InputLayer)         (None, 100)               0         \n",
      "_________________________________________________________________\n",
      "dense_3 (Dense)              (None, 4096)              413696    \n",
      "_________________________________________________________________\n",
      "batch_normalization_5 (Batch (None, 4096)              16384     \n",
      "_________________________________________________________________\n",
      "activation_5 (Activation)    (None, 4096)              0         \n",
      "_________________________________________________________________\n",
      "reshape_2 (Reshape)          (None, 8, 8, 64)          0         \n",
      "_________________________________________________________________\n",
      "dropout_6 (Dropout)          (None, 8, 8, 64)          0         \n",
      "_________________________________________________________________\n",
      "up_sampling2d_3 (UpSampling2 (None, 16, 16, 64)        0         \n",
      "_________________________________________________________________\n",
      "conv2d_transpose_4 (Conv2DTr (None, 16, 16, 32)        51232     \n",
      "_________________________________________________________________\n",
      "batch_normalization_6 (Batch (None, 16, 16, 32)        128       \n",
      "_________________________________________________________________\n",
      "activation_6 (Activation)    (None, 16, 16, 32)        0         \n",
      "_________________________________________________________________\n",
      "up_sampling2d_4 (UpSampling2 (None, 32, 32, 32)        0         \n",
      "_________________________________________________________________\n",
      "conv2d_transpose_5 (Conv2DTr (None, 32, 32, 16)        12816     \n",
      "_________________________________________________________________\n",
      "batch_normalization_7 (Batch (None, 32, 32, 16)        64        \n",
      "_________________________________________________________________\n",
      "activation_7 (Activation)    (None, 32, 32, 16)        0         \n",
      "_________________________________________________________________\n",
      "conv2d_transpose_6 (Conv2DTr (None, 32, 32, 8)         3208      \n",
      "_________________________________________________________________\n",
      "batch_normalization_8 (Batch (None, 32, 32, 8)         32        \n",
      "_________________________________________________________________\n",
      "activation_8 (Activation)    (None, 32, 32, 8)         0         \n",
      "_________________________________________________________________\n",
      "conv2d_6 (Conv2D)            (None, 32, 32, 1)         201       \n",
      "=================================================================\n",
      "Total params: 497,761\n",
      "Trainable params: 489,457\n",
      "Non-trainable params: 8,304\n",
      "_________________________________________________________________\n"
     ]
    }
   ],
   "source": [
    "generator = generator_builder()"
   ]
  },
  {
   "cell_type": "code",
   "execution_count": 0,
   "metadata": {
    "colab": {
     "autoexec": {
      "startup": false,
      "wait_interval": 0
     }
    },
    "colab_type": "code",
    "id": "8fvf1Xg1-ssV"
   },
   "outputs": [],
   "source": [
    "def adversarial_builder(z_dim=100):\n",
    "    model = Sequential()\n",
    "    model.add(generator)\n",
    "    model.add(discriminator)\n",
    "    model.compile(loss='binary_crossentropy', \n",
    "                  optimizer=RMSprop(lr=0.0004, decay=3e-8, clipvalue=1.0), \n",
    "                  metrics=['accuracy'])\n",
    "    model.summary()\n",
    "    return model"
   ]
  },
  {
   "cell_type": "code",
   "execution_count": 33,
   "metadata": {
    "colab": {
     "autoexec": {
      "startup": false,
      "wait_interval": 0
     },
     "base_uri": "https://localhost:8080/",
     "height": 204
    },
    "colab_type": "code",
    "executionInfo": {
     "elapsed": 1328,
     "status": "ok",
     "timestamp": 1533319678571,
     "user": {
      "displayName": "Md Fahim Sikder",
      "photoUrl": "//lh3.googleusercontent.com/-rdIL4NG3B9s/AAAAAAAAAAI/AAAAAAAAARI/7WtoB5e445g/s50-c-k-no/photo.jpg",
      "userId": "113286591130898257207"
     },
     "user_tz": -360
    },
    "id": "tpJbM4oVUmb9",
    "outputId": "d06f9eda-004b-4ba4-cef6-72904efa49a3"
   },
   "outputs": [
    {
     "name": "stdout",
     "output_type": "stream",
     "text": [
      "_________________________________________________________________\n",
      "Layer (type)                 Output Shape              Param #   \n",
      "=================================================================\n",
      "model_3 (Model)              (None, 32, 32, 1)         497761    \n",
      "_________________________________________________________________\n",
      "model_1 (Model)              (None, 1)                 4311553   \n",
      "=================================================================\n",
      "Total params: 4,809,314\n",
      "Trainable params: 4,801,010\n",
      "Non-trainable params: 8,304\n",
      "_________________________________________________________________\n"
     ]
    }
   ],
   "source": [
    "adversarial_model = adversarial_builder()"
   ]
  },
  {
   "cell_type": "code",
   "execution_count": 0,
   "metadata": {
    "colab": {
     "autoexec": {
      "startup": false,
      "wait_interval": 0
     }
    },
    "colab_type": "code",
    "id": "_5gxx9k5-YSc"
   },
   "outputs": [],
   "source": [
    "def make_trainable(net, val):\n",
    "    net.trainable = val\n",
    "    for l in net.layers:\n",
    "        l.trainable = val"
   ]
  },
  {
   "cell_type": "code",
   "execution_count": 0,
   "metadata": {
    "colab": {
     "autoexec": {
      "startup": false,
      "wait_interval": 0
     }
    },
    "colab_type": "code",
    "id": "P58ud3hk-d0y"
   },
   "outputs": [],
   "source": [
    "def train(epochs=2000,batch=128):\n",
    "    \n",
    "    d_metrics = []\n",
    "    a_metrics = []\n",
    "    \n",
    "    running_d_loss = 0\n",
    "    running_d_acc = 0\n",
    "    running_a_loss = 0\n",
    "    running_a_acc = 0\n",
    "    \n",
    "    start_time = time.time()\n",
    "    \n",
    "    for i in range(epochs):\n",
    "        \n",
    "        if i%100 == 0:\n",
    "            print(i)\n",
    "        \n",
    "        real_imgs = np.reshape(train_x[np.random.choice(train_x.shape[0],batch,replace=False)],(batch,32,32,1))\n",
    "        fake_imgs = generator.predict(np.random.uniform(-1.0, 1.0, size=[batch, 100]))\n",
    "\n",
    "        x = np.concatenate((real_imgs,fake_imgs))\n",
    "        y = np.ones([2*batch,1])\n",
    "        y[batch:,:] = 0\n",
    "        \n",
    "        make_trainable(discriminator, True)\n",
    "        \n",
    "        d_metrics.append(discriminator.train_on_batch(x,y))\n",
    "        running_d_loss += d_metrics[-1][0]\n",
    "        running_d_acc += d_metrics[-1][1]\n",
    "        \n",
    "        make_trainable(discriminator, False)\n",
    "        \n",
    "        noise = np.random.uniform(-1.0, 1.0, size=[batch, 100])\n",
    "        y = np.ones([batch,1])\n",
    "\n",
    "        a_metrics.append(adversarial_model.train_on_batch(noise,y)) \n",
    "        running_a_loss += a_metrics[-1][0]\n",
    "        running_a_acc += a_metrics[-1][1]\n",
    "        \n",
    "        if (i+1)%500 == 0:\n",
    "\n",
    "            print('Epoch #{}'.format(i+1))\n",
    "            log_mesg = \"%d: [D loss: %f, acc: %f]\" % (i, running_d_loss/i, running_d_acc/i)\n",
    "            log_mesg = \"%s  [A loss: %f, acc: %f]\" % (log_mesg, running_a_loss/i, running_a_acc/i)\n",
    "            print(log_mesg)\n",
    "\n",
    "            noise = np.random.uniform(-1.0, 1.0, size=[16, 100])\n",
    "            gen_imgs = generator.predict(noise)\n",
    "            gen_imgs = gen_imgs.reshape(16,32,32)\n",
    "\n",
    "            plt.figure(figsize=(5,5))\n",
    "\n",
    "            for k in range(gen_imgs.shape[0]):\n",
    "                plt.subplot(4, 4, k+1)\n",
    "                plt.imshow(gen_imgs[k], interpolation='nearest', cmap = 'gray_r')\n",
    "                plt.axis('off')\n",
    "                \n",
    "            plt.tight_layout()\n",
    "            plt.savefig('drive/colab/bhand/gan/img/generated_%d.png' % (i+1))\n",
    "            plt.show()\n",
    "            \n",
    "            \n",
    "        end_time = (time.time()-start_time)\n",
    "    \n",
    "    return a_metrics, d_metrics, end_time"
   ]
  },
  {
   "cell_type": "code",
   "execution_count": 54,
   "metadata": {
    "colab": {
     "autoexec": {
      "startup": false,
      "wait_interval": 0
     },
     "base_uri": "https://localhost:8080/",
     "height": 1030
    },
    "colab_type": "code",
    "executionInfo": {
     "elapsed": 252529,
     "status": "ok",
     "timestamp": 1533323747895,
     "user": {
      "displayName": "Md Fahim Sikder",
      "photoUrl": "//lh3.googleusercontent.com/-rdIL4NG3B9s/AAAAAAAAAAI/AAAAAAAAARI/7WtoB5e445g/s50-c-k-no/photo.jpg",
      "userId": "113286591130898257207"
     },
     "user_tz": -360
    },
    "id": "Qdr4Xs99_Ok6",
    "outputId": "e9297fe3-d88d-4270-90eb-723b8c7d7b86"
   },
   "outputs": [
    {
     "name": "stdout",
     "output_type": "stream",
     "text": [
      "0\n"
     ]
    },
    {
     "name": "stderr",
     "output_type": "stream",
     "text": [
      "/usr/local/lib/python3.6/dist-packages/keras/engine/training.py:975: UserWarning: Discrepancy between trainable weights and collected trainable weights, did you set `model.trainable` without calling `model.compile` after ?\n",
      "  'Discrepancy between trainable weights and collected trainable'\n"
     ]
    },
    {
     "name": "stdout",
     "output_type": "stream",
     "text": [
      "100\n",
      "200\n",
      "300\n",
      "400\n",
      "Epoch #500\n",
      "499: [D loss: 0.600810, acc: 0.737146]  [A loss: 1.257019, acc: 0.145666]\n"
     ]
    },
    {
     "data": {
      "image/png": "[encoded data removed]",
      "text/plain": [
       "<matplotlib.figure.Figure at 0x7f4f81287390>"
      ]
     },
     "metadata": {
      "tags": []
     },
     "output_type": "display_data"
    },
    {
     "name": "stdout",
     "output_type": "stream",
     "text": [
      "500\n",
      "600\n",
      "700\n",
      "800\n",
      "900\n",
      "Epoch #1000\n",
      "999: [D loss: 0.590381, acc: 0.737886]  [A loss: 1.246732, acc: 0.133986]\n"
     ]
    },
    {
     "data": {
      "image/png": "[encoded data removed]",
      "text/plain": [
       "<matplotlib.figure.Figure at 0x7f4f8140ecf8>"
      ]
     },
     "metadata": {
      "tags": []
     },
     "output_type": "display_data"
    },
    {
     "data": {
      "text/plain": [
       "250.58062744140625"
      ]
     },
     "execution_count": 54,
     "metadata": {
      "tags": []
     },
     "output_type": "execute_result"
    }
   ],
   "source": [
    "a_metrics_complete, d_metrics_complete, end_time = train(epochs=1000)\n",
    "with open('drive/colab/bhand/gan/img/res.pkl','wb')as outpt:\n",
    "  pickle.dump((a_metrics_complete, d_metrics_complete), outpt)\n",
    "\n",
    "end_time"
   ]
  },
  {
   "cell_type": "code",
   "execution_count": 0,
   "metadata": {
    "colab": {
     "autoexec": {
      "startup": false,
      "wait_interval": 0
     }
    },
    "colab_type": "code",
    "id": "04XElFxRLgde"
   },
   "outputs": [],
   "source": [
    "with open('drive/colab/bhand/gan/img/res.pkl', 'rb')as rbb:\n",
    "    a,b = pickle.load(rbb)"
   ]
  },
  {
   "cell_type": "code",
   "execution_count": 56,
   "metadata": {
    "colab": {
     "autoexec": {
      "startup": false,
      "wait_interval": 0
     },
     "base_uri": "https://localhost:8080/",
     "height": 311
    },
    "colab_type": "code",
    "executionInfo": {
     "elapsed": 1657,
     "status": "ok",
     "timestamp": 1533323770916,
     "user": {
      "displayName": "Md Fahim Sikder",
      "photoUrl": "//lh3.googleusercontent.com/-rdIL4NG3B9s/AAAAAAAAAAI/AAAAAAAAARI/7WtoB5e445g/s50-c-k-no/photo.jpg",
      "userId": "113286591130898257207"
     },
     "user_tz": -360
    },
    "id": "gkAno2GU_TRv",
    "outputId": "fbc2f453-9665-4758-a92b-20d574cc43a8"
   },
   "outputs": [
    {
     "data": {
      "text/plain": [
       "Text(0,0.5,'Loss')"
      ]
     },
     "execution_count": 56,
     "metadata": {
      "tags": []
     },
     "output_type": "execute_result"
    },
    {
     "data": {
      "image/png": "[encoded data removed]",
      "text/plain": [
       "<matplotlib.figure.Figure at 0x7f4f80f5f5c0>"
      ]
     },
     "metadata": {
      "tags": []
     },
     "output_type": "display_data"
    }
   ],
   "source": [
    "ax = pd.DataFrame(\n",
    "    {\n",
    "        'Generator': [metric[0] for metric in a],\n",
    "        'Discriminator': [metric[0] for metric in b],\n",
    "    }\n",
    ").plot(title='Training Loss', logy=True)\n",
    "ax.set_xlabel(\"Epochs\")\n",
    "ax.set_ylabel(\"Loss\")"
   ]
  },
  {
   "cell_type": "code",
   "execution_count": 57,
   "metadata": {
    "colab": {
     "autoexec": {
      "startup": false,
      "wait_interval": 0
     },
     "base_uri": "https://localhost:8080/",
     "height": 311
    },
    "colab_type": "code",
    "executionInfo": {
     "elapsed": 981,
     "status": "ok",
     "timestamp": 1533323776847,
     "user": {
      "displayName": "Md Fahim Sikder",
      "photoUrl": "//lh3.googleusercontent.com/-rdIL4NG3B9s/AAAAAAAAAAI/AAAAAAAAARI/7WtoB5e445g/s50-c-k-no/photo.jpg",
      "userId": "113286591130898257207"
     },
     "user_tz": -360
    },
    "id": "QGlHtL4g_7sI",
    "outputId": "f16dbc20-3c49-4ec9-a8cd-39f46c55fb89"
   },
   "outputs": [
    {
     "data": {
      "text/plain": [
       "Text(0,0.5,'Accuracy')"
      ]
     },
     "execution_count": 57,
     "metadata": {
      "tags": []
     },
     "output_type": "execute_result"
    },
    {
     "data": {
      "image/png": "[encoded data removed]",
      "text/plain": [
       "<matplotlib.figure.Figure at 0x7f4f803d80f0>"
      ]
     },
     "metadata": {
      "tags": []
     },
     "output_type": "display_data"
    }
   ],
   "source": [
    "ax = pd.DataFrame(\n",
    "    {\n",
    "        'Generator': [metric[1] for metric in a],\n",
    "        'Discriminator': [metric[1] for metric in b],\n",
    "    }\n",
    ").plot(title='Training Accuracy')\n",
    "ax.set_xlabel(\"Epochs\")\n",
    "ax.set_ylabel(\"Accuracy\")"
   ]
  },
  {
   "cell_type": "code",
   "execution_count": 0,
   "metadata": {
    "colab": {
     "autoexec": {
      "startup": false,
      "wait_interval": 0
     }
    },
    "colab_type": "code",
    "id": "3RthI--lAW8O"
   },
   "outputs": [],
   "source": []
  }
 ],
 "metadata": {
  "accelerator": "GPU",
  "colab": {
   "collapsed_sections": [],
   "default_view": {},
   "name": "gan_bhnd_train_1.ipynb",
   "provenance": [],
   "version": "0.3.2",
   "views": {}
  },
  "kernelspec": {
   "display_name": "Python 3",
   "language": "python",
   "name": "python3"
  },
  "language_info": {
   "codemirror_mode": {
    "name": "ipython",
    "version": 3
   },
   "file_extension": ".py",
   "mimetype": "text/x-python",
   "name": "python",
   "nbconvert_exporter": "python",
   "pygments_lexer": "ipython3",
   "version": "3.7.1"
  }
 },
 "nbformat": 4,
 "nbformat_minor": 1
}
